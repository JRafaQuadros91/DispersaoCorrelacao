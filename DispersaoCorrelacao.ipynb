{
  "nbformat": 4,
  "nbformat_minor": 5,
  "metadata": {
    "kernelspec": {
      "display_name": "Python 3",
      "language": "python",
      "name": "python3"
    },
    "language_info": {
      "codemirror_mode": {
        "name": "ipython",
        "version": 3
      },
      "file_extension": ".py",
      "mimetype": "text/x-python",
      "name": "python",
      "nbconvert_exporter": "python",
      "pygments_lexer": "ipython3",
      "version": "3.6.8"
    },
    "colab": {
      "name": "João Rafael - T2-2-TADS3.ipynb",
      "provenance": [],
      "collapsed_sections": [],
      "include_colab_link": true
    }
  },
  "cells": [
    {
      "cell_type": "markdown",
      "metadata": {
        "id": "view-in-github",
        "colab_type": "text"
      },
      "source": [
        "<a href=\"https://colab.research.google.com/github/JRafaQuadros91/DispersaoCorrelacao/blob/main/DispersaoCorrelacao.ipynb\" target=\"_parent\"><img src=\"https://colab.research.google.com/assets/colab-badge.svg\" alt=\"Open In Colab\"/></a>"
      ]
    },
    {
      "cell_type": "markdown",
      "metadata": {
        "id": "Ytx57tmWIcJ6"
      },
      "source": [
        "# T2-2\n",
        "Resolva os exercícios abaixo utilizando a biblioteca Pandas e calcule os valores e as informações requeridas em cada item."
      ],
      "id": "Ytx57tmWIcJ6"
    },
    {
      "cell_type": "markdown",
      "metadata": {
        "id": "d959f30d"
      },
      "source": [
        "## Exercício 01\n",
        "\n",
        "Um pesquisador deseja verificar se um instrumento para medir a concentração de determinada substância no sangue está bem calibrado. Para isto, ele tomou $15$ amostras de concentrações conhecidas (`X`) e determinou a respectiva concentração através do instrumento (`Y`), obtendo:\n",
        "\n",
        "| | | | | | | | | | | | | | | | |\n",
        "|-|-|-|-|-|-|-|-|-|-|-|-|-|-|-|-|\n",
        "|`X`|2|2|2|4|4|4|6|6|6|8|8|8|10|10|10|\n",
        "|`Y`|2.1|1.8|1.9|4.5|4.2|4|6.2|6|6.5|8.2|7.8|7.7|9.6|10|10.1|\n",
        "\n",
        "Sobre as variáveis `X` e `Y`, responda:\n",
        "- As variáveis estão fortemente ou fracamente correlacionadas? \n",
        "\n",
        "**    R- As varáveis são fortamente relacionadas , tendo em vista que o valor de correlação se aproxima de muito de 1.**\n",
        "\n",
        "- A correlação é positiva ou negativa?\n",
        "\n",
        "**    R- A correlação é possitiva, isso indica que as variáveis são diretamente proporcionais, enquanto uma cresce, a outra também.**\n",
        "\n",
        "- Apresente o gráfico de dispersão das variáveis.\n",
        "\n",
        "\n",
        "\n",
        "\n",
        "Fonte: Adaptado de (LACHOS, 2007)."
      ],
      "id": "d959f30d"
    },
    {
      "cell_type": "code",
      "metadata": {
        "id": "8e0e9f53"
      },
      "source": [
        "import pandas as pd\n",
        "import numpy as np\n",
        "import matplotlib.pyplot as plt\n",
        "\n"
      ],
      "id": "8e0e9f53",
      "execution_count": null,
      "outputs": []
    },
    {
      "cell_type": "code",
      "metadata": {
        "colab": {
          "base_uri": "https://localhost:8080/",
          "height": 296
        },
        "id": "cuai9_j1x7ft",
        "outputId": "0f5e8a85-3e60-4382-a802-606ee283f45a"
      },
      "source": [
        "# Dataframe\n",
        "dfAmostra = pd.DataFrame(\n",
        "    {'x': \n",
        "     {0: 2, 1: 2, 2: 2, 3: 4, 4: 4, 5: 4, 6: 6, 7: 6, 8: 6, 9: 8, 10: 8, 11: 8, 12: 10, 13: 10, 14: 10}, \n",
        "     'y': \n",
        "     {0: 2.1, 1: 1.8, 2: 1.9, 3: 4.5, 4: 4.2, 5: 4, 6: 6.2, 7: 6, 8: 6.5, 9: 8.2, 10: 7.8, 11: 7.7, 12: 9.6, 13: 10, 14: 10.1}}\n",
        ")\n",
        "dfAmostra\n",
        "\n",
        "# Gráfico de dispersão\n",
        "dfAmostra.plot.scatter('x','y')"
      ],
      "id": "cuai9_j1x7ft",
      "execution_count": null,
      "outputs": [
        {
          "output_type": "execute_result",
          "data": {
            "text/plain": [
              "<matplotlib.axes._subplots.AxesSubplot at 0x7f00bf97d210>"
            ]
          },
          "metadata": {},
          "execution_count": 4
        },
        {
          "output_type": "display_data",
          "data": {
            "image/png": "[encoded data removed]",
            "text/plain": [
              "<Figure size 432x288 with 1 Axes>"
            ]
          },
          "metadata": {
            "needs_background": "light"
          }
        }
      ]
    },
    {
      "cell_type": "code",
      "metadata": {
        "colab": {
          "base_uri": "https://localhost:8080/"
        },
        "id": "SGz4AWfv0IdC",
        "outputId": "8ebd2ae9-de1b-478e-f48f-881cdf94acbc"
      },
      "source": [
        "x = dfAmostra['x']\n",
        "y = dfAmostra['y']\n",
        "\n",
        "r = x.corr(y) #Calcula a correlação entre x e y\n",
        "print('Correlação:', r)"
      ],
      "id": "SGz4AWfv0IdC",
      "execution_count": null,
      "outputs": [
        {
          "output_type": "stream",
          "text": [
            "Correlação: 0.9960837948733587\n"
          ],
          "name": "stdout"
        }
      ]
    },
    {
      "cell_type": "code",
      "metadata": {
        "id": "mdykrWEb01a9"
      },
      "source": [
        "## r>0  indica que a correlação é positiva, e as variáveis são diretamente proporcionais.\n",
        "\n",
        "# Ou seja, após análise do gráfico de disperção e valor de correlação, verificamos que : \n",
        "\n",
        "# 1 as varáveis são fortamente relacionadas , tendo em vista que o valor de correlação se aproxima de muito de 1.\n",
        "\n",
        "## 2 A correlação é possitiva, isso indica que as variáveis são diretamente proporcionais, enquanto uma cresce, a outra também.\n",
        "\n"
      ],
      "id": "mdykrWEb01a9",
      "execution_count": null,
      "outputs": []
    },
    {
      "cell_type": "markdown",
      "metadata": {
        "id": "5ac30c7f"
      },
      "source": [
        "## Exercício 02\n",
        "Carregue a base de dados `alugueis`, e reponda as questões a seguir.\n",
        "```python\n",
        "import pandas as pd\n",
        "#No Colab:\n",
        "from google.colab import drive\n",
        "drive.mount('/drive')\n",
        "alugueis = pd.read_csv('/drive/Shared drives/BasesPublicas/Exemplos/alugueis.csv', sep=',', encoding='latin1')\n",
        "#No Jupyter:\n",
        "# alugueis = pd.read_csv('alugueis.csv', sep=',', encoding='latin1')\n",
        "alugueis.head()\n",
        "```\n",
        "Fonte da base: Adaptada de (JUNIOR, 2020)."
      ],
      "id": "5ac30c7f"
    },
    {
      "cell_type": "code",
      "metadata": {
        "id": "43ed3112",
        "colab": {
          "base_uri": "https://localhost:8080/",
          "height": 221
        },
        "outputId": "804ab9ea-ed8c-41c9-af7c-f2086d3919e6"
      },
      "source": [
        "import pandas as pd\n",
        "from google.colab import drive\n",
        "drive.mount('/drive')\n",
        "alugueis = pd.read_csv('/drive/Shared drives/BasesPublicas/Bases/Exemplos/alugueis.csv', sep=',', encoding='utf-8')\n",
        "alugueis.head()"
      ],
      "id": "43ed3112",
      "execution_count": null,
      "outputs": [
        {
          "output_type": "stream",
          "text": [
            "Mounted at /drive\n"
          ],
          "name": "stdout"
        },
        {
          "output_type": "execute_result",
          "data": {
            "text/html": [
              "<div>\n",
              "<style scoped>\n",
              "    .dataframe tbody tr th:only-of-type {\n",
              "        vertical-align: middle;\n",
              "    }\n",
              "\n",
              "    .dataframe tbody tr th {\n",
              "        vertical-align: top;\n",
              "    }\n",
              "\n",
              "    .dataframe thead th {\n",
              "        text-align: right;\n",
              "    }\n",
              "</style>\n",
              "<table border=\"1\" class=\"dataframe\">\n",
              "  <thead>\n",
              "    <tr style=\"text-align: right;\">\n",
              "      <th></th>\n",
              "      <th>Cidade</th>\n",
              "      <th>Area</th>\n",
              "      <th>Quartos</th>\n",
              "      <th>Banheiros</th>\n",
              "      <th>Vagas</th>\n",
              "      <th>Andar</th>\n",
              "      <th>Animais</th>\n",
              "      <th>Mobilia</th>\n",
              "      <th>Condominio</th>\n",
              "      <th>Aluguel</th>\n",
              "      <th>IPTU</th>\n",
              "      <th>Seguro Incendio</th>\n",
              "      <th>Total</th>\n",
              "    </tr>\n",
              "  </thead>\n",
              "  <tbody>\n",
              "    <tr>\n",
              "      <th>0</th>\n",
              "      <td>São Paulo</td>\n",
              "      <td>70</td>\n",
              "      <td>2</td>\n",
              "      <td>1</td>\n",
              "      <td>1</td>\n",
              "      <td>7</td>\n",
              "      <td>1</td>\n",
              "      <td>1</td>\n",
              "      <td>2065</td>\n",
              "      <td>3300</td>\n",
              "      <td>211</td>\n",
              "      <td>42</td>\n",
              "      <td>5618</td>\n",
              "    </tr>\n",
              "    <tr>\n",
              "      <th>1</th>\n",
              "      <td>São Paulo</td>\n",
              "      <td>320</td>\n",
              "      <td>4</td>\n",
              "      <td>4</td>\n",
              "      <td>0</td>\n",
              "      <td>20</td>\n",
              "      <td>1</td>\n",
              "      <td>0</td>\n",
              "      <td>1200</td>\n",
              "      <td>4960</td>\n",
              "      <td>1750</td>\n",
              "      <td>63</td>\n",
              "      <td>7973</td>\n",
              "    </tr>\n",
              "    <tr>\n",
              "      <th>2</th>\n",
              "      <td>Porto Alegre</td>\n",
              "      <td>80</td>\n",
              "      <td>1</td>\n",
              "      <td>1</td>\n",
              "      <td>1</td>\n",
              "      <td>6</td>\n",
              "      <td>1</td>\n",
              "      <td>0</td>\n",
              "      <td>1000</td>\n",
              "      <td>2800</td>\n",
              "      <td>0</td>\n",
              "      <td>41</td>\n",
              "      <td>3841</td>\n",
              "    </tr>\n",
              "    <tr>\n",
              "      <th>3</th>\n",
              "      <td>Porto Alegre</td>\n",
              "      <td>51</td>\n",
              "      <td>2</td>\n",
              "      <td>1</td>\n",
              "      <td>0</td>\n",
              "      <td>2</td>\n",
              "      <td>1</td>\n",
              "      <td>0</td>\n",
              "      <td>270</td>\n",
              "      <td>1112</td>\n",
              "      <td>22</td>\n",
              "      <td>17</td>\n",
              "      <td>1421</td>\n",
              "    </tr>\n",
              "    <tr>\n",
              "      <th>4</th>\n",
              "      <td>São Paulo</td>\n",
              "      <td>25</td>\n",
              "      <td>1</td>\n",
              "      <td>1</td>\n",
              "      <td>0</td>\n",
              "      <td>1</td>\n",
              "      <td>0</td>\n",
              "      <td>0</td>\n",
              "      <td>0</td>\n",
              "      <td>800</td>\n",
              "      <td>25</td>\n",
              "      <td>11</td>\n",
              "      <td>836</td>\n",
              "    </tr>\n",
              "  </tbody>\n",
              "</table>\n",
              "</div>"
            ],
            "text/plain": [
              "         Cidade  Area  Quartos  ...  IPTU  Seguro Incendio Total\n",
              "0     São Paulo    70        2  ...   211               42  5618\n",
              "1     São Paulo   320        4  ...  1750               63  7973\n",
              "2  Porto Alegre    80        1  ...     0               41  3841\n",
              "3  Porto Alegre    51        2  ...    22               17  1421\n",
              "4     São Paulo    25        1  ...    25               11   836\n",
              "\n",
              "[5 rows x 13 columns]"
            ]
          },
          "metadata": {},
          "execution_count": 7
        }
      ]
    },
    {
      "cell_type": "markdown",
      "metadata": {
        "id": "7d3afa93"
      },
      "source": [
        "1. O que influencia mais o valor do aluguel? A área do imóvel ou o número de banheiros?\n",
        "\n",
        "R- A quantidade de banheiros\n",
        "\n",
        "1. O que influencia mais no valor da taxa de condominio: o número de vagas de garagem ou o número de quartos? Essa correlação é significativa?\n",
        "\n",
        "R- Vagas de garagem, a correlação é pouco significativa pelo valor se aproximar muito de 0.\n",
        "\n",
        "1. Qual variável está mais correlacionada com a área do imóvel: o número de vagas na garagem ou o número de banheiros?\n",
        "\n",
        "R- O numero de banheiros\n",
        "\n",
        "1. Na base, podemos considerar que as casas possuem andar como '-'. Considere que os que os **registros que possuem valor para o andar são apartamentos**. Desta forma, responda:\n",
        "    1. O valor do aluguel é maior ou menor nos andares mais altos?\n",
        "\n",
        "  R- O valor é maior nos andares mais altos\n",
        "\n",
        "        1. Podemos dizer que isso acontece? A correlação é significativa?\n",
        "\n",
        "      R- Sim, isso acontece, porém a correlação não é muito significativa por o valor se aproxima muito de 0.\n",
        "\n",
        "        1. Faça o gráfico de dispersão, considerando número do andar e valor do aluguel.\n",
        "\n",
        "        R- Feito!\n",
        "\n",
        "\n"
      ],
      "id": "7d3afa93"
    },
    {
      "cell_type": "code",
      "metadata": {
        "colab": {
          "base_uri": "https://localhost:8080/",
          "height": 390
        },
        "id": "kjgtNWch2BOS",
        "outputId": "9cdd3611-694f-4c37-a536-9579a1d8094c"
      },
      "source": [
        "alugueis.corr()"
      ],
      "id": "kjgtNWch2BOS",
      "execution_count": null,
      "outputs": [
        {
          "output_type": "execute_result",
          "data": {
            "text/html": [
              "<div>\n",
              "<style scoped>\n",
              "    .dataframe tbody tr th:only-of-type {\n",
              "        vertical-align: middle;\n",
              "    }\n",
              "\n",
              "    .dataframe tbody tr th {\n",
              "        vertical-align: top;\n",
              "    }\n",
              "\n",
              "    .dataframe thead th {\n",
              "        text-align: right;\n",
              "    }\n",
              "</style>\n",
              "<table border=\"1\" class=\"dataframe\">\n",
              "  <thead>\n",
              "    <tr style=\"text-align: right;\">\n",
              "      <th></th>\n",
              "      <th>Area</th>\n",
              "      <th>Quartos</th>\n",
              "      <th>Banheiros</th>\n",
              "      <th>Vagas</th>\n",
              "      <th>Animais</th>\n",
              "      <th>Mobilia</th>\n",
              "      <th>Condominio</th>\n",
              "      <th>Aluguel</th>\n",
              "      <th>IPTU</th>\n",
              "      <th>Seguro Incendio</th>\n",
              "      <th>Total</th>\n",
              "    </tr>\n",
              "  </thead>\n",
              "  <tbody>\n",
              "    <tr>\n",
              "      <th>Area</th>\n",
              "      <td>1.000000</td>\n",
              "      <td>0.193796</td>\n",
              "      <td>0.226766</td>\n",
              "      <td>0.193983</td>\n",
              "      <td>0.039626</td>\n",
              "      <td>0.008175</td>\n",
              "      <td>0.006890</td>\n",
              "      <td>0.180742</td>\n",
              "      <td>0.039059</td>\n",
              "      <td>0.188078</td>\n",
              "      <td>0.051799</td>\n",
              "    </tr>\n",
              "    <tr>\n",
              "      <th>Quartos</th>\n",
              "      <td>0.193796</td>\n",
              "      <td>1.000000</td>\n",
              "      <td>0.733763</td>\n",
              "      <td>0.617510</td>\n",
              "      <td>0.172190</td>\n",
              "      <td>-0.080694</td>\n",
              "      <td>0.007139</td>\n",
              "      <td>0.541758</td>\n",
              "      <td>0.075252</td>\n",
              "      <td>0.565148</td>\n",
              "      <td>0.134597</td>\n",
              "    </tr>\n",
              "    <tr>\n",
              "      <th>Banheiros</th>\n",
              "      <td>0.226766</td>\n",
              "      <td>0.733763</td>\n",
              "      <td>1.000000</td>\n",
              "      <td>0.697379</td>\n",
              "      <td>0.118255</td>\n",
              "      <td>0.017938</td>\n",
              "      <td>0.050271</td>\n",
              "      <td>0.668504</td>\n",
              "      <td>0.109253</td>\n",
              "      <td>0.676399</td>\n",
              "      <td>0.208339</td>\n",
              "    </tr>\n",
              "    <tr>\n",
              "      <th>Vagas</th>\n",
              "      <td>0.193983</td>\n",
              "      <td>0.617510</td>\n",
              "      <td>0.697379</td>\n",
              "      <td>1.000000</td>\n",
              "      <td>0.127432</td>\n",
              "      <td>-0.004720</td>\n",
              "      <td>0.009321</td>\n",
              "      <td>0.578361</td>\n",
              "      <td>0.098378</td>\n",
              "      <td>0.597348</td>\n",
              "      <td>0.148684</td>\n",
              "    </tr>\n",
              "    <tr>\n",
              "      <th>Animais</th>\n",
              "      <td>0.039626</td>\n",
              "      <td>0.172190</td>\n",
              "      <td>0.118255</td>\n",
              "      <td>0.127432</td>\n",
              "      <td>1.000000</td>\n",
              "      <td>-0.087972</td>\n",
              "      <td>-0.022008</td>\n",
              "      <td>0.067754</td>\n",
              "      <td>-0.003006</td>\n",
              "      <td>0.079152</td>\n",
              "      <td>-0.007143</td>\n",
              "    </tr>\n",
              "    <tr>\n",
              "      <th>Mobilia</th>\n",
              "      <td>0.008175</td>\n",
              "      <td>-0.080694</td>\n",
              "      <td>0.017938</td>\n",
              "      <td>-0.004720</td>\n",
              "      <td>-0.087972</td>\n",
              "      <td>1.000000</td>\n",
              "      <td>0.003413</td>\n",
              "      <td>0.164235</td>\n",
              "      <td>0.000985</td>\n",
              "      <td>0.141768</td>\n",
              "      <td>0.037781</td>\n",
              "    </tr>\n",
              "    <tr>\n",
              "      <th>Condominio</th>\n",
              "      <td>0.006890</td>\n",
              "      <td>0.007139</td>\n",
              "      <td>0.050271</td>\n",
              "      <td>0.009321</td>\n",
              "      <td>-0.022008</td>\n",
              "      <td>0.003413</td>\n",
              "      <td>1.000000</td>\n",
              "      <td>0.036490</td>\n",
              "      <td>0.007627</td>\n",
              "      <td>0.029535</td>\n",
              "      <td>0.955024</td>\n",
              "    </tr>\n",
              "    <tr>\n",
              "      <th>Aluguel</th>\n",
              "      <td>0.180742</td>\n",
              "      <td>0.541758</td>\n",
              "      <td>0.668504</td>\n",
              "      <td>0.578361</td>\n",
              "      <td>0.067754</td>\n",
              "      <td>0.164235</td>\n",
              "      <td>0.036490</td>\n",
              "      <td>1.000000</td>\n",
              "      <td>0.107884</td>\n",
              "      <td>0.987343</td>\n",
              "      <td>0.264490</td>\n",
              "    </tr>\n",
              "    <tr>\n",
              "      <th>IPTU</th>\n",
              "      <td>0.039059</td>\n",
              "      <td>0.075252</td>\n",
              "      <td>0.109253</td>\n",
              "      <td>0.098378</td>\n",
              "      <td>-0.003006</td>\n",
              "      <td>0.000985</td>\n",
              "      <td>0.007627</td>\n",
              "      <td>0.107884</td>\n",
              "      <td>1.000000</td>\n",
              "      <td>0.105661</td>\n",
              "      <td>0.218344</td>\n",
              "    </tr>\n",
              "    <tr>\n",
              "      <th>Seguro Incendio</th>\n",
              "      <td>0.188078</td>\n",
              "      <td>0.565148</td>\n",
              "      <td>0.676399</td>\n",
              "      <td>0.597348</td>\n",
              "      <td>0.079152</td>\n",
              "      <td>0.141768</td>\n",
              "      <td>0.029535</td>\n",
              "      <td>0.987343</td>\n",
              "      <td>0.105661</td>\n",
              "      <td>1.000000</td>\n",
              "      <td>0.254911</td>\n",
              "    </tr>\n",
              "    <tr>\n",
              "      <th>Total</th>\n",
              "      <td>0.051799</td>\n",
              "      <td>0.134597</td>\n",
              "      <td>0.208339</td>\n",
              "      <td>0.148684</td>\n",
              "      <td>-0.007143</td>\n",
              "      <td>0.037781</td>\n",
              "      <td>0.955024</td>\n",
              "      <td>0.264490</td>\n",
              "      <td>0.218344</td>\n",
              "      <td>0.254911</td>\n",
              "      <td>1.000000</td>\n",
              "    </tr>\n",
              "  </tbody>\n",
              "</table>\n",
              "</div>"
            ],
            "text/plain": [
              "                     Area   Quartos  ...  Seguro Incendio     Total\n",
              "Area             1.000000  0.193796  ...         0.188078  0.051799\n",
              "Quartos          0.193796  1.000000  ...         0.565148  0.134597\n",
              "Banheiros        0.226766  0.733763  ...         0.676399  0.208339\n",
              "Vagas            0.193983  0.617510  ...         0.597348  0.148684\n",
              "Animais          0.039626  0.172190  ...         0.079152 -0.007143\n",
              "Mobilia          0.008175 -0.080694  ...         0.141768  0.037781\n",
              "Condominio       0.006890  0.007139  ...         0.029535  0.955024\n",
              "Aluguel          0.180742  0.541758  ...         0.987343  0.264490\n",
              "IPTU             0.039059  0.075252  ...         0.105661  0.218344\n",
              "Seguro Incendio  0.188078  0.565148  ...         1.000000  0.254911\n",
              "Total            0.051799  0.134597  ...         0.254911  1.000000\n",
              "\n",
              "[11 rows x 11 columns]"
            ]
          },
          "metadata": {},
          "execution_count": 8
        }
      ]
    },
    {
      "cell_type": "code",
      "metadata": {
        "id": "zIW_L1X559Dy"
      },
      "source": [
        "#Exercicio 1 - A quantidade de banheiros influencia mais!"
      ],
      "id": "zIW_L1X559Dy",
      "execution_count": null,
      "outputs": []
    },
    {
      "cell_type": "code",
      "metadata": {
        "id": "6578be06",
        "colab": {
          "base_uri": "https://localhost:8080/"
        },
        "outputId": "e5d37b45-cbaa-474b-fc50-a0c462c9b6bd"
      },
      "source": [
        "Aluguel = alugueis['Aluguel']\n",
        "Area = alugueis['Area']\n",
        "\n",
        "r = Aluguel.corr(Area) #Calcula a correlação entre Area e Aluguel\n",
        "print('Correlação:', r)"
      ],
      "id": "6578be06",
      "execution_count": null,
      "outputs": [
        {
          "output_type": "stream",
          "text": [
            "Correlação: 0.18074233055311786\n"
          ],
          "name": "stdout"
        }
      ]
    },
    {
      "cell_type": "code",
      "metadata": {
        "colab": {
          "base_uri": "https://localhost:8080/",
          "height": 558
        },
        "id": "-7hHQ1SR3wMS",
        "outputId": "6f2999e8-081f-48dd-9ecd-a5cb1b43c7ba"
      },
      "source": [
        "aux = alugueis.plot.scatter('Aluguel','Area')\n",
        "alugueis.plot.line(x='Aluguel',y='Area', style='b')\n",
        "\n"
      ],
      "id": "-7hHQ1SR3wMS",
      "execution_count": null,
      "outputs": [
        {
          "output_type": "execute_result",
          "data": {
            "text/plain": [
              "<matplotlib.axes._subplots.AxesSubplot at 0x7f00baca9a90>"
            ]
          },
          "metadata": {},
          "execution_count": 73
        },
        {
          "output_type": "display_data",
          "data": {
            "image/png": "[encoded data removed]",
            "text/plain": [
              "<Figure size 432x288 with 1 Axes>"
            ]
          },
          "metadata": {
            "needs_background": "light"
          }
        },
        {
          "output_type": "display_data",
          "data": {
            "image/png": "[encoded data removed]",
            "text/plain": [
              "<Figure size 432x288 with 1 Axes>"
            ]
          },
          "metadata": {
            "needs_background": "light"
          }
        }
      ]
    },
    {
      "cell_type": "code",
      "metadata": {
        "id": "Ux7lcpL6Jqtt",
        "colab": {
          "base_uri": "https://localhost:8080/"
        },
        "outputId": "9c252317-6d19-470c-85cf-5bb66d14abe5"
      },
      "source": [
        "Aluguel = alugueis['Aluguel']\n",
        "Banheiros = alugueis['Banheiros']\n",
        "\n",
        "r = Aluguel.corr(Banheiros) #Calcula a correlação entre Banheiros e Aluguel\n",
        "print('Correlação:', r)"
      ],
      "id": "Ux7lcpL6Jqtt",
      "execution_count": null,
      "outputs": [
        {
          "output_type": "stream",
          "text": [
            "Correlação: 0.6685043667013907\n"
          ],
          "name": "stdout"
        }
      ]
    },
    {
      "cell_type": "code",
      "metadata": {
        "id": "GjB1FjU0JrAG",
        "colab": {
          "base_uri": "https://localhost:8080/",
          "height": 558
        },
        "outputId": "2784013b-c99f-4393-de1e-eff694e54f4f"
      },
      "source": [
        "alugueis.plot.scatter('Aluguel','Banheiros')\n",
        "alugueis.plot.line(x='Aluguel',y='Banheiros', style='-o')"
      ],
      "id": "GjB1FjU0JrAG",
      "execution_count": null,
      "outputs": [
        {
          "output_type": "execute_result",
          "data": {
            "text/plain": [
              "<matplotlib.axes._subplots.AxesSubplot at 0x7f00bafc7f50>"
            ]
          },
          "metadata": {},
          "execution_count": 75
        },
        {
          "output_type": "display_data",
          "data": {
            "image/png": "[encoded data removed]",
            "text/plain": [
              "<Figure size 432x288 with 1 Axes>"
            ]
          },
          "metadata": {
            "needs_background": "light"
          }
        },
        {
          "output_type": "display_data",
          "data": {
            "image/png": "[encoded data removed]",
            "text/plain": [
              "<Figure size 432x288 with 1 Axes>"
            ]
          },
          "metadata": {
            "needs_background": "light"
          }
        }
      ]
    },
    {
      "cell_type": "code",
      "metadata": {
        "id": "uPIY7ocVJrRw"
      },
      "source": [
        "# Exercicio 2 - Vagas de garagem, a correlação é pouco significativa pelo valor se aproximar muito de 0."
      ],
      "id": "uPIY7ocVJrRw",
      "execution_count": null,
      "outputs": []
    },
    {
      "cell_type": "code",
      "metadata": {
        "colab": {
          "base_uri": "https://localhost:8080/"
        },
        "id": "Hoyr9KG556MS",
        "outputId": "e266f46f-84ef-4b4e-8892-5a411c5872c8"
      },
      "source": [
        "Condominio = alugueis['Condominio']\n",
        "Vagas = alugueis['Vagas']\n",
        "\n",
        "r = Condominio.corr(Vagas) #Calcula a correlação entre Area e Aluguel\n",
        "print('Correlação:', r)"
      ],
      "id": "Hoyr9KG556MS",
      "execution_count": null,
      "outputs": [
        {
          "output_type": "stream",
          "text": [
            "Correlação: 0.009321437212563004\n"
          ],
          "name": "stdout"
        }
      ]
    },
    {
      "cell_type": "code",
      "metadata": {
        "colab": {
          "base_uri": "https://localhost:8080/",
          "height": 558
        },
        "id": "FIC8Svlf56J9",
        "outputId": "3c129a10-5f63-4b24-9346-40966ac610a1"
      },
      "source": [
        "aux = alugueis.plot.scatter('Condominio','Vagas')\n",
        "alugueis.plot.line(x='Condominio',y='Vagas', style='b')"
      ],
      "id": "FIC8Svlf56J9",
      "execution_count": null,
      "outputs": [
        {
          "output_type": "execute_result",
          "data": {
            "text/plain": [
              "<matplotlib.axes._subplots.AxesSubplot at 0x7f00bb6d2190>"
            ]
          },
          "metadata": {},
          "execution_count": 31
        },
        {
          "output_type": "display_data",
          "data": {
            "image/png": "[encoded data removed]",
            "text/plain": [
              "<Figure size 432x288 with 1 Axes>"
            ]
          },
          "metadata": {
            "needs_background": "light"
          }
        },
        {
          "output_type": "display_data",
          "data": {
            "image/png": "[encoded data removed]",
            "text/plain": [
              "<Figure size 432x288 with 1 Axes>"
            ]
          },
          "metadata": {
            "needs_background": "light"
          }
        }
      ]
    },
    {
      "cell_type": "code",
      "metadata": {
        "colab": {
          "base_uri": "https://localhost:8080/"
        },
        "id": "fzur4lhx56HD",
        "outputId": "9a8c085c-e539-41c0-dfd5-0235c1748290"
      },
      "source": [
        "Condominio = alugueis['Condominio']\n",
        "Quartos = alugueis['Quartos']\n",
        "\n",
        "r = Condominio.corr(Quartos) #Calcula a correlação entre Area e Aluguel\n",
        "print('Correlação:', r)"
      ],
      "id": "fzur4lhx56HD",
      "execution_count": null,
      "outputs": [
        {
          "output_type": "stream",
          "text": [
            "Correlação: 0.007138618515731225\n"
          ],
          "name": "stdout"
        }
      ]
    },
    {
      "cell_type": "code",
      "metadata": {
        "colab": {
          "base_uri": "https://localhost:8080/",
          "height": 558
        },
        "id": "ZTinFs5755_A",
        "outputId": "4eb0a845-2071-47de-c0b9-17c6232dffd7"
      },
      "source": [
        "aux = alugueis.plot.scatter('Condominio','Quartos')\n",
        "alugueis.plot.line(x='Condominio',y='Quartos', style='b')"
      ],
      "id": "ZTinFs5755_A",
      "execution_count": null,
      "outputs": [
        {
          "output_type": "execute_result",
          "data": {
            "text/plain": [
              "<matplotlib.axes._subplots.AxesSubplot at 0x7f00bac8df90>"
            ]
          },
          "metadata": {},
          "execution_count": 33
        },
        {
          "output_type": "display_data",
          "data": {
            "image/png": "[encoded data removed]",
            "text/plain": [
              "<Figure size 432x288 with 1 Axes>"
            ]
          },
          "metadata": {
            "needs_background": "light"
          }
        },
        {
          "output_type": "display_data",
          "data": {
            "image/png": "[encoded data removed]",
            "text/plain": [
              "<Figure size 432x288 with 1 Axes>"
            ]
          },
          "metadata": {
            "needs_background": "light"
          }
        }
      ]
    },
    {
      "cell_type": "code",
      "metadata": {
        "id": "DCrJTHD27MVZ"
      },
      "source": [
        "# Exercicio 3 - O numero de banheiros influencia mais"
      ],
      "id": "DCrJTHD27MVZ",
      "execution_count": null,
      "outputs": []
    },
    {
      "cell_type": "code",
      "metadata": {
        "colab": {
          "base_uri": "https://localhost:8080/"
        },
        "id": "RDi5cC_57MQr",
        "outputId": "2c6b3f85-4cc8-45db-b3fd-7f6399f999f6"
      },
      "source": [
        "Area = alugueis['Area']\n",
        "Vagas = alugueis['Vagas']\n",
        "\n",
        "r = Area.corr(Vagas) #Calcula a correlação entre Banheiros e Aluguel\n",
        "print('Correlação:', r)"
      ],
      "id": "RDi5cC_57MQr",
      "execution_count": null,
      "outputs": [
        {
          "output_type": "stream",
          "text": [
            "Correlação: 0.19398335581394957\n"
          ],
          "name": "stdout"
        }
      ]
    },
    {
      "cell_type": "code",
      "metadata": {
        "colab": {
          "base_uri": "https://localhost:8080/",
          "height": 558
        },
        "id": "RMz4i3VU7MJr",
        "outputId": "e799b3aa-9f15-4abb-d91b-349572ff5f0c"
      },
      "source": [
        "alugueis.plot.scatter('Area','Vagas')\n",
        "alugueis.plot.line(x='Area',y='Vagas', style='-o')"
      ],
      "id": "RMz4i3VU7MJr",
      "execution_count": null,
      "outputs": [
        {
          "output_type": "execute_result",
          "data": {
            "text/plain": [
              "<matplotlib.axes._subplots.AxesSubplot at 0x7f00bab6b250>"
            ]
          },
          "metadata": {},
          "execution_count": 35
        },
        {
          "output_type": "display_data",
          "data": {
            "image/png": "[encoded data removed]",
            "text/plain": [
              "<Figure size 432x288 with 1 Axes>"
            ]
          },
          "metadata": {
            "needs_background": "light"
          }
        },
        {
          "output_type": "display_data",
          "data": {
            "image/png": "[encoded data removed]",
            "text/plain": [
              "<Figure size 432x288 with 1 Axes>"
            ]
          },
          "metadata": {
            "needs_background": "light"
          }
        }
      ]
    },
    {
      "cell_type": "code",
      "metadata": {
        "colab": {
          "base_uri": "https://localhost:8080/"
        },
        "id": "Qmt9Lj4a7fUL",
        "outputId": "fa80a7d1-6013-4a8e-fa75-465a62d68c29"
      },
      "source": [
        "Area = alugueis['Area']\n",
        "Banheiros = alugueis['Banheiros']\n",
        "\n",
        "r = Area.corr(Banheiros) #Calcula a correlação entre Banheiros e Aluguel\n",
        "print('Correlação:', r)"
      ],
      "id": "Qmt9Lj4a7fUL",
      "execution_count": null,
      "outputs": [
        {
          "output_type": "stream",
          "text": [
            "Correlação: 0.22676561953818103\n"
          ],
          "name": "stdout"
        }
      ]
    },
    {
      "cell_type": "code",
      "metadata": {
        "colab": {
          "base_uri": "https://localhost:8080/",
          "height": 558
        },
        "id": "RbDyHd4b7fR4",
        "outputId": "5a0483e3-0047-4399-da98-2ea2bcb0ecd5"
      },
      "source": [
        "alugueis.plot.scatter('Area','Banheiros')\n",
        "alugueis.plot.line(x='Area',y='Banheiros', style='-o')"
      ],
      "id": "RbDyHd4b7fR4",
      "execution_count": null,
      "outputs": [
        {
          "output_type": "execute_result",
          "data": {
            "text/plain": [
              "<matplotlib.axes._subplots.AxesSubplot at 0x7f00baa5a7d0>"
            ]
          },
          "metadata": {},
          "execution_count": 41
        },
        {
          "output_type": "display_data",
          "data": {
            "image/png": "[encoded data removed]",
            "text/plain": [
              "<Figure size 432x288 with 1 Axes>"
            ]
          },
          "metadata": {
            "needs_background": "light"
          }
        },
        {
          "output_type": "display_data",
          "data": {
            "image/png": "[encoded data removed]",
            "text/plain": [
              "<Figure size 432x288 with 1 Axes>"
            ]
          },
          "metadata": {
            "needs_background": "light"
          }
        }
      ]
    },
    {
      "cell_type": "code",
      "metadata": {
        "id": "f65r7iiF7fHa"
      },
      "source": [
        "# Exercicio 4 - O valor é maior nos andares mais altos, porém a correlação não é muito significativa por o valor se aproxima de 0."
      ],
      "id": "f65r7iiF7fHa",
      "execution_count": null,
      "outputs": []
    },
    {
      "cell_type": "code",
      "metadata": {
        "colab": {
          "base_uri": "https://localhost:8080/",
          "height": 669
        },
        "id": "i6FHhqEQ7fFJ",
        "outputId": "e90c5ae0-4590-4a87-9dec-6f21fead867c"
      },
      "source": [
        "alugueis.head(20)"
      ],
      "id": "i6FHhqEQ7fFJ",
      "execution_count": null,
      "outputs": [
        {
          "output_type": "execute_result",
          "data": {
            "text/html": [
              "<div>\n",
              "<style scoped>\n",
              "    .dataframe tbody tr th:only-of-type {\n",
              "        vertical-align: middle;\n",
              "    }\n",
              "\n",
              "    .dataframe tbody tr th {\n",
              "        vertical-align: top;\n",
              "    }\n",
              "\n",
              "    .dataframe thead th {\n",
              "        text-align: right;\n",
              "    }\n",
              "</style>\n",
              "<table border=\"1\" class=\"dataframe\">\n",
              "  <thead>\n",
              "    <tr style=\"text-align: right;\">\n",
              "      <th></th>\n",
              "      <th>Cidade</th>\n",
              "      <th>Area</th>\n",
              "      <th>Quartos</th>\n",
              "      <th>Banheiros</th>\n",
              "      <th>Vagas</th>\n",
              "      <th>Andar</th>\n",
              "      <th>Animais</th>\n",
              "      <th>Mobilia</th>\n",
              "      <th>Condominio</th>\n",
              "      <th>Aluguel</th>\n",
              "      <th>IPTU</th>\n",
              "      <th>Seguro Incendio</th>\n",
              "      <th>Total</th>\n",
              "    </tr>\n",
              "  </thead>\n",
              "  <tbody>\n",
              "    <tr>\n",
              "      <th>0</th>\n",
              "      <td>São Paulo</td>\n",
              "      <td>70</td>\n",
              "      <td>2</td>\n",
              "      <td>1</td>\n",
              "      <td>1</td>\n",
              "      <td>7</td>\n",
              "      <td>1</td>\n",
              "      <td>1</td>\n",
              "      <td>2065</td>\n",
              "      <td>3300</td>\n",
              "      <td>211</td>\n",
              "      <td>42</td>\n",
              "      <td>5618</td>\n",
              "    </tr>\n",
              "    <tr>\n",
              "      <th>1</th>\n",
              "      <td>São Paulo</td>\n",
              "      <td>320</td>\n",
              "      <td>4</td>\n",
              "      <td>4</td>\n",
              "      <td>0</td>\n",
              "      <td>20</td>\n",
              "      <td>1</td>\n",
              "      <td>0</td>\n",
              "      <td>1200</td>\n",
              "      <td>4960</td>\n",
              "      <td>1750</td>\n",
              "      <td>63</td>\n",
              "      <td>7973</td>\n",
              "    </tr>\n",
              "    <tr>\n",
              "      <th>2</th>\n",
              "      <td>Porto Alegre</td>\n",
              "      <td>80</td>\n",
              "      <td>1</td>\n",
              "      <td>1</td>\n",
              "      <td>1</td>\n",
              "      <td>6</td>\n",
              "      <td>1</td>\n",
              "      <td>0</td>\n",
              "      <td>1000</td>\n",
              "      <td>2800</td>\n",
              "      <td>0</td>\n",
              "      <td>41</td>\n",
              "      <td>3841</td>\n",
              "    </tr>\n",
              "    <tr>\n",
              "      <th>3</th>\n",
              "      <td>Porto Alegre</td>\n",
              "      <td>51</td>\n",
              "      <td>2</td>\n",
              "      <td>1</td>\n",
              "      <td>0</td>\n",
              "      <td>2</td>\n",
              "      <td>1</td>\n",
              "      <td>0</td>\n",
              "      <td>270</td>\n",
              "      <td>1112</td>\n",
              "      <td>22</td>\n",
              "      <td>17</td>\n",
              "      <td>1421</td>\n",
              "    </tr>\n",
              "    <tr>\n",
              "      <th>4</th>\n",
              "      <td>São Paulo</td>\n",
              "      <td>25</td>\n",
              "      <td>1</td>\n",
              "      <td>1</td>\n",
              "      <td>0</td>\n",
              "      <td>1</td>\n",
              "      <td>0</td>\n",
              "      <td>0</td>\n",
              "      <td>0</td>\n",
              "      <td>800</td>\n",
              "      <td>25</td>\n",
              "      <td>11</td>\n",
              "      <td>836</td>\n",
              "    </tr>\n",
              "    <tr>\n",
              "      <th>5</th>\n",
              "      <td>São Paulo</td>\n",
              "      <td>376</td>\n",
              "      <td>3</td>\n",
              "      <td>3</td>\n",
              "      <td>7</td>\n",
              "      <td>-</td>\n",
              "      <td>1</td>\n",
              "      <td>0</td>\n",
              "      <td>0</td>\n",
              "      <td>8000</td>\n",
              "      <td>834</td>\n",
              "      <td>121</td>\n",
              "      <td>8955</td>\n",
              "    </tr>\n",
              "    <tr>\n",
              "      <th>6</th>\n",
              "      <td>Rio de Janeiro</td>\n",
              "      <td>72</td>\n",
              "      <td>2</td>\n",
              "      <td>1</td>\n",
              "      <td>0</td>\n",
              "      <td>7</td>\n",
              "      <td>1</td>\n",
              "      <td>0</td>\n",
              "      <td>740</td>\n",
              "      <td>1900</td>\n",
              "      <td>85</td>\n",
              "      <td>25</td>\n",
              "      <td>2750</td>\n",
              "    </tr>\n",
              "    <tr>\n",
              "      <th>7</th>\n",
              "      <td>São Paulo</td>\n",
              "      <td>213</td>\n",
              "      <td>4</td>\n",
              "      <td>4</td>\n",
              "      <td>4</td>\n",
              "      <td>4</td>\n",
              "      <td>1</td>\n",
              "      <td>0</td>\n",
              "      <td>2254</td>\n",
              "      <td>3223</td>\n",
              "      <td>1735</td>\n",
              "      <td>41</td>\n",
              "      <td>7253</td>\n",
              "    </tr>\n",
              "    <tr>\n",
              "      <th>8</th>\n",
              "      <td>São Paulo</td>\n",
              "      <td>152</td>\n",
              "      <td>2</td>\n",
              "      <td>2</td>\n",
              "      <td>1</td>\n",
              "      <td>3</td>\n",
              "      <td>1</td>\n",
              "      <td>1</td>\n",
              "      <td>1000</td>\n",
              "      <td>15000</td>\n",
              "      <td>250</td>\n",
              "      <td>191</td>\n",
              "      <td>16440</td>\n",
              "    </tr>\n",
              "    <tr>\n",
              "      <th>9</th>\n",
              "      <td>Rio de Janeiro</td>\n",
              "      <td>35</td>\n",
              "      <td>1</td>\n",
              "      <td>1</td>\n",
              "      <td>0</td>\n",
              "      <td>2</td>\n",
              "      <td>1</td>\n",
              "      <td>1</td>\n",
              "      <td>590</td>\n",
              "      <td>2300</td>\n",
              "      <td>35</td>\n",
              "      <td>30</td>\n",
              "      <td>2955</td>\n",
              "    </tr>\n",
              "    <tr>\n",
              "      <th>10</th>\n",
              "      <td>São Paulo</td>\n",
              "      <td>26</td>\n",
              "      <td>1</td>\n",
              "      <td>1</td>\n",
              "      <td>0</td>\n",
              "      <td>2</td>\n",
              "      <td>1</td>\n",
              "      <td>1</td>\n",
              "      <td>470</td>\n",
              "      <td>2100</td>\n",
              "      <td>150</td>\n",
              "      <td>27</td>\n",
              "      <td>2747</td>\n",
              "    </tr>\n",
              "    <tr>\n",
              "      <th>11</th>\n",
              "      <td>Campinas</td>\n",
              "      <td>46</td>\n",
              "      <td>1</td>\n",
              "      <td>1</td>\n",
              "      <td>1</td>\n",
              "      <td>10</td>\n",
              "      <td>1</td>\n",
              "      <td>0</td>\n",
              "      <td>550</td>\n",
              "      <td>580</td>\n",
              "      <td>43</td>\n",
              "      <td>8</td>\n",
              "      <td>1181</td>\n",
              "    </tr>\n",
              "    <tr>\n",
              "      <th>12</th>\n",
              "      <td>São Paulo</td>\n",
              "      <td>36</td>\n",
              "      <td>1</td>\n",
              "      <td>1</td>\n",
              "      <td>0</td>\n",
              "      <td>11</td>\n",
              "      <td>1</td>\n",
              "      <td>0</td>\n",
              "      <td>359</td>\n",
              "      <td>2100</td>\n",
              "      <td>70</td>\n",
              "      <td>27</td>\n",
              "      <td>2556</td>\n",
              "    </tr>\n",
              "    <tr>\n",
              "      <th>13</th>\n",
              "      <td>São Paulo</td>\n",
              "      <td>55</td>\n",
              "      <td>1</td>\n",
              "      <td>1</td>\n",
              "      <td>1</td>\n",
              "      <td>2</td>\n",
              "      <td>1</td>\n",
              "      <td>1</td>\n",
              "      <td>790</td>\n",
              "      <td>4200</td>\n",
              "      <td>224</td>\n",
              "      <td>54</td>\n",
              "      <td>5268</td>\n",
              "    </tr>\n",
              "    <tr>\n",
              "      <th>14</th>\n",
              "      <td>São Paulo</td>\n",
              "      <td>100</td>\n",
              "      <td>2</td>\n",
              "      <td>2</td>\n",
              "      <td>2</td>\n",
              "      <td>24</td>\n",
              "      <td>1</td>\n",
              "      <td>1</td>\n",
              "      <td>900</td>\n",
              "      <td>4370</td>\n",
              "      <td>17</td>\n",
              "      <td>56</td>\n",
              "      <td>5343</td>\n",
              "    </tr>\n",
              "    <tr>\n",
              "      <th>15</th>\n",
              "      <td>Campinas</td>\n",
              "      <td>330</td>\n",
              "      <td>4</td>\n",
              "      <td>6</td>\n",
              "      <td>6</td>\n",
              "      <td>-</td>\n",
              "      <td>1</td>\n",
              "      <td>1</td>\n",
              "      <td>680</td>\n",
              "      <td>8000</td>\n",
              "      <td>328</td>\n",
              "      <td>121</td>\n",
              "      <td>9129</td>\n",
              "    </tr>\n",
              "    <tr>\n",
              "      <th>16</th>\n",
              "      <td>São Paulo</td>\n",
              "      <td>110</td>\n",
              "      <td>2</td>\n",
              "      <td>2</td>\n",
              "      <td>1</td>\n",
              "      <td>1</td>\n",
              "      <td>1</td>\n",
              "      <td>0</td>\n",
              "      <td>700</td>\n",
              "      <td>3000</td>\n",
              "      <td>122</td>\n",
              "      <td>39</td>\n",
              "      <td>3861</td>\n",
              "    </tr>\n",
              "    <tr>\n",
              "      <th>17</th>\n",
              "      <td>Rio de Janeiro</td>\n",
              "      <td>88</td>\n",
              "      <td>2</td>\n",
              "      <td>3</td>\n",
              "      <td>1</td>\n",
              "      <td>9</td>\n",
              "      <td>0</td>\n",
              "      <td>1</td>\n",
              "      <td>1614</td>\n",
              "      <td>3500</td>\n",
              "      <td>221</td>\n",
              "      <td>16</td>\n",
              "      <td>5351</td>\n",
              "    </tr>\n",
              "    <tr>\n",
              "      <th>18</th>\n",
              "      <td>Rio de Janeiro</td>\n",
              "      <td>56</td>\n",
              "      <td>2</td>\n",
              "      <td>1</td>\n",
              "      <td>0</td>\n",
              "      <td>8</td>\n",
              "      <td>1</td>\n",
              "      <td>0</td>\n",
              "      <td>800</td>\n",
              "      <td>1220</td>\n",
              "      <td>0</td>\n",
              "      <td>16</td>\n",
              "      <td>2036</td>\n",
              "    </tr>\n",
              "    <tr>\n",
              "      <th>19</th>\n",
              "      <td>São Paulo</td>\n",
              "      <td>600</td>\n",
              "      <td>4</td>\n",
              "      <td>5</td>\n",
              "      <td>6</td>\n",
              "      <td>-</td>\n",
              "      <td>1</td>\n",
              "      <td>0</td>\n",
              "      <td>0</td>\n",
              "      <td>12000</td>\n",
              "      <td>9500</td>\n",
              "      <td>181</td>\n",
              "      <td>21680</td>\n",
              "    </tr>\n",
              "  </tbody>\n",
              "</table>\n",
              "</div>"
            ],
            "text/plain": [
              "            Cidade  Area  Quartos  ...  IPTU  Seguro Incendio  Total\n",
              "0        São Paulo    70        2  ...   211               42   5618\n",
              "1        São Paulo   320        4  ...  1750               63   7973\n",
              "2     Porto Alegre    80        1  ...     0               41   3841\n",
              "3     Porto Alegre    51        2  ...    22               17   1421\n",
              "4        São Paulo    25        1  ...    25               11    836\n",
              "5        São Paulo   376        3  ...   834              121   8955\n",
              "6   Rio de Janeiro    72        2  ...    85               25   2750\n",
              "7        São Paulo   213        4  ...  1735               41   7253\n",
              "8        São Paulo   152        2  ...   250              191  16440\n",
              "9   Rio de Janeiro    35        1  ...    35               30   2955\n",
              "10       São Paulo    26        1  ...   150               27   2747\n",
              "11        Campinas    46        1  ...    43                8   1181\n",
              "12       São Paulo    36        1  ...    70               27   2556\n",
              "13       São Paulo    55        1  ...   224               54   5268\n",
              "14       São Paulo   100        2  ...    17               56   5343\n",
              "15        Campinas   330        4  ...   328              121   9129\n",
              "16       São Paulo   110        2  ...   122               39   3861\n",
              "17  Rio de Janeiro    88        2  ...   221               16   5351\n",
              "18  Rio de Janeiro    56        2  ...     0               16   2036\n",
              "19       São Paulo   600        4  ...  9500              181  21680\n",
              "\n",
              "[20 rows x 13 columns]"
            ]
          },
          "metadata": {},
          "execution_count": 42
        }
      ]
    },
    {
      "cell_type": "code",
      "metadata": {
        "colab": {
          "base_uri": "https://localhost:8080/"
        },
        "id": "uVkYs_hS8R6A",
        "outputId": "14baaf86-4184-4d48-fd1a-68f06e6bf127"
      },
      "source": [
        "alugueis.dtypes"
      ],
      "id": "uVkYs_hS8R6A",
      "execution_count": null,
      "outputs": [
        {
          "output_type": "execute_result",
          "data": {
            "text/plain": [
              "Cidade             object\n",
              "Area                int64\n",
              "Quartos             int64\n",
              "Banheiros           int64\n",
              "Vagas               int64\n",
              "Andar              object\n",
              "Animais             int64\n",
              "Mobilia             int64\n",
              "Condominio          int64\n",
              "Aluguel             int64\n",
              "IPTU                int64\n",
              "Seguro Incendio     int64\n",
              "Total               int64\n",
              "dtype: object"
            ]
          },
          "metadata": {},
          "execution_count": 48
        }
      ]
    },
    {
      "cell_type": "code",
      "metadata": {
        "colab": {
          "base_uri": "https://localhost:8080/",
          "height": 204
        },
        "id": "DEQaKxbN8R33",
        "outputId": "75525e58-8ce5-4419-b92b-58955a798ae8"
      },
      "source": [
        "alugueis_filtro = alugueis\n",
        "alugueis_filtro.head()"
      ],
      "id": "DEQaKxbN8R33",
      "execution_count": null,
      "outputs": [
        {
          "output_type": "execute_result",
          "data": {
            "text/html": [
              "<div>\n",
              "<style scoped>\n",
              "    .dataframe tbody tr th:only-of-type {\n",
              "        vertical-align: middle;\n",
              "    }\n",
              "\n",
              "    .dataframe tbody tr th {\n",
              "        vertical-align: top;\n",
              "    }\n",
              "\n",
              "    .dataframe thead th {\n",
              "        text-align: right;\n",
              "    }\n",
              "</style>\n",
              "<table border=\"1\" class=\"dataframe\">\n",
              "  <thead>\n",
              "    <tr style=\"text-align: right;\">\n",
              "      <th></th>\n",
              "      <th>Cidade</th>\n",
              "      <th>Area</th>\n",
              "      <th>Quartos</th>\n",
              "      <th>Banheiros</th>\n",
              "      <th>Vagas</th>\n",
              "      <th>Andar</th>\n",
              "      <th>Animais</th>\n",
              "      <th>Mobilia</th>\n",
              "      <th>Condominio</th>\n",
              "      <th>Aluguel</th>\n",
              "      <th>IPTU</th>\n",
              "      <th>Seguro Incendio</th>\n",
              "      <th>Total</th>\n",
              "    </tr>\n",
              "  </thead>\n",
              "  <tbody>\n",
              "    <tr>\n",
              "      <th>0</th>\n",
              "      <td>São Paulo</td>\n",
              "      <td>70</td>\n",
              "      <td>2</td>\n",
              "      <td>1</td>\n",
              "      <td>1</td>\n",
              "      <td>7</td>\n",
              "      <td>1</td>\n",
              "      <td>1</td>\n",
              "      <td>2065</td>\n",
              "      <td>3300</td>\n",
              "      <td>211</td>\n",
              "      <td>42</td>\n",
              "      <td>5618</td>\n",
              "    </tr>\n",
              "    <tr>\n",
              "      <th>1</th>\n",
              "      <td>São Paulo</td>\n",
              "      <td>320</td>\n",
              "      <td>4</td>\n",
              "      <td>4</td>\n",
              "      <td>0</td>\n",
              "      <td>20</td>\n",
              "      <td>1</td>\n",
              "      <td>0</td>\n",
              "      <td>1200</td>\n",
              "      <td>4960</td>\n",
              "      <td>1750</td>\n",
              "      <td>63</td>\n",
              "      <td>7973</td>\n",
              "    </tr>\n",
              "    <tr>\n",
              "      <th>2</th>\n",
              "      <td>Porto Alegre</td>\n",
              "      <td>80</td>\n",
              "      <td>1</td>\n",
              "      <td>1</td>\n",
              "      <td>1</td>\n",
              "      <td>6</td>\n",
              "      <td>1</td>\n",
              "      <td>0</td>\n",
              "      <td>1000</td>\n",
              "      <td>2800</td>\n",
              "      <td>0</td>\n",
              "      <td>41</td>\n",
              "      <td>3841</td>\n",
              "    </tr>\n",
              "    <tr>\n",
              "      <th>3</th>\n",
              "      <td>Porto Alegre</td>\n",
              "      <td>51</td>\n",
              "      <td>2</td>\n",
              "      <td>1</td>\n",
              "      <td>0</td>\n",
              "      <td>2</td>\n",
              "      <td>1</td>\n",
              "      <td>0</td>\n",
              "      <td>270</td>\n",
              "      <td>1112</td>\n",
              "      <td>22</td>\n",
              "      <td>17</td>\n",
              "      <td>1421</td>\n",
              "    </tr>\n",
              "    <tr>\n",
              "      <th>4</th>\n",
              "      <td>São Paulo</td>\n",
              "      <td>25</td>\n",
              "      <td>1</td>\n",
              "      <td>1</td>\n",
              "      <td>0</td>\n",
              "      <td>1</td>\n",
              "      <td>0</td>\n",
              "      <td>0</td>\n",
              "      <td>0</td>\n",
              "      <td>800</td>\n",
              "      <td>25</td>\n",
              "      <td>11</td>\n",
              "      <td>836</td>\n",
              "    </tr>\n",
              "  </tbody>\n",
              "</table>\n",
              "</div>"
            ],
            "text/plain": [
              "         Cidade  Area  Quartos  ...  IPTU  Seguro Incendio Total\n",
              "0     São Paulo    70        2  ...   211               42  5618\n",
              "1     São Paulo   320        4  ...  1750               63  7973\n",
              "2  Porto Alegre    80        1  ...     0               41  3841\n",
              "3  Porto Alegre    51        2  ...    22               17  1421\n",
              "4     São Paulo    25        1  ...    25               11   836\n",
              "\n",
              "[5 rows x 13 columns]"
            ]
          },
          "metadata": {},
          "execution_count": 49
        }
      ]
    },
    {
      "cell_type": "code",
      "metadata": {
        "id": "nXFrpJ4U9tlX"
      },
      "source": [
        "# alugueis_filtro.astype({'Andar' : 'int64'}).dtypes\n",
        "\n",
        "#alugueis_filtro['Andar'] = alugueis_filtro['Andar'].astype(object).astype(\"int64\")\n",
        "\n",
        "alugueis_filtro = alugueis[alugueis.Andar != '-']\n",
        "\n",
        "\n"
      ],
      "id": "nXFrpJ4U9tlX",
      "execution_count": null,
      "outputs": []
    },
    {
      "cell_type": "code",
      "metadata": {
        "colab": {
          "base_uri": "https://localhost:8080/",
          "height": 669
        },
        "id": "EXzp4O3m9tjk",
        "outputId": "681db073-a7f9-43af-fa83-83b17f530a04"
      },
      "source": [
        "alugueis_filtro.head(20)"
      ],
      "id": "EXzp4O3m9tjk",
      "execution_count": null,
      "outputs": [
        {
          "output_type": "execute_result",
          "data": {
            "text/html": [
              "<div>\n",
              "<style scoped>\n",
              "    .dataframe tbody tr th:only-of-type {\n",
              "        vertical-align: middle;\n",
              "    }\n",
              "\n",
              "    .dataframe tbody tr th {\n",
              "        vertical-align: top;\n",
              "    }\n",
              "\n",
              "    .dataframe thead th {\n",
              "        text-align: right;\n",
              "    }\n",
              "</style>\n",
              "<table border=\"1\" class=\"dataframe\">\n",
              "  <thead>\n",
              "    <tr style=\"text-align: right;\">\n",
              "      <th></th>\n",
              "      <th>Cidade</th>\n",
              "      <th>Area</th>\n",
              "      <th>Quartos</th>\n",
              "      <th>Banheiros</th>\n",
              "      <th>Vagas</th>\n",
              "      <th>Andar</th>\n",
              "      <th>Animais</th>\n",
              "      <th>Mobilia</th>\n",
              "      <th>Condominio</th>\n",
              "      <th>Aluguel</th>\n",
              "      <th>IPTU</th>\n",
              "      <th>Seguro Incendio</th>\n",
              "      <th>Total</th>\n",
              "    </tr>\n",
              "  </thead>\n",
              "  <tbody>\n",
              "    <tr>\n",
              "      <th>0</th>\n",
              "      <td>São Paulo</td>\n",
              "      <td>70</td>\n",
              "      <td>2</td>\n",
              "      <td>1</td>\n",
              "      <td>1</td>\n",
              "      <td>7</td>\n",
              "      <td>1</td>\n",
              "      <td>1</td>\n",
              "      <td>2065</td>\n",
              "      <td>3300</td>\n",
              "      <td>211</td>\n",
              "      <td>42</td>\n",
              "      <td>5618</td>\n",
              "    </tr>\n",
              "    <tr>\n",
              "      <th>1</th>\n",
              "      <td>São Paulo</td>\n",
              "      <td>320</td>\n",
              "      <td>4</td>\n",
              "      <td>4</td>\n",
              "      <td>0</td>\n",
              "      <td>20</td>\n",
              "      <td>1</td>\n",
              "      <td>0</td>\n",
              "      <td>1200</td>\n",
              "      <td>4960</td>\n",
              "      <td>1750</td>\n",
              "      <td>63</td>\n",
              "      <td>7973</td>\n",
              "    </tr>\n",
              "    <tr>\n",
              "      <th>2</th>\n",
              "      <td>Porto Alegre</td>\n",
              "      <td>80</td>\n",
              "      <td>1</td>\n",
              "      <td>1</td>\n",
              "      <td>1</td>\n",
              "      <td>6</td>\n",
              "      <td>1</td>\n",
              "      <td>0</td>\n",
              "      <td>1000</td>\n",
              "      <td>2800</td>\n",
              "      <td>0</td>\n",
              "      <td>41</td>\n",
              "      <td>3841</td>\n",
              "    </tr>\n",
              "    <tr>\n",
              "      <th>3</th>\n",
              "      <td>Porto Alegre</td>\n",
              "      <td>51</td>\n",
              "      <td>2</td>\n",
              "      <td>1</td>\n",
              "      <td>0</td>\n",
              "      <td>2</td>\n",
              "      <td>1</td>\n",
              "      <td>0</td>\n",
              "      <td>270</td>\n",
              "      <td>1112</td>\n",
              "      <td>22</td>\n",
              "      <td>17</td>\n",
              "      <td>1421</td>\n",
              "    </tr>\n",
              "    <tr>\n",
              "      <th>4</th>\n",
              "      <td>São Paulo</td>\n",
              "      <td>25</td>\n",
              "      <td>1</td>\n",
              "      <td>1</td>\n",
              "      <td>0</td>\n",
              "      <td>1</td>\n",
              "      <td>0</td>\n",
              "      <td>0</td>\n",
              "      <td>0</td>\n",
              "      <td>800</td>\n",
              "      <td>25</td>\n",
              "      <td>11</td>\n",
              "      <td>836</td>\n",
              "    </tr>\n",
              "    <tr>\n",
              "      <th>6</th>\n",
              "      <td>Rio de Janeiro</td>\n",
              "      <td>72</td>\n",
              "      <td>2</td>\n",
              "      <td>1</td>\n",
              "      <td>0</td>\n",
              "      <td>7</td>\n",
              "      <td>1</td>\n",
              "      <td>0</td>\n",
              "      <td>740</td>\n",
              "      <td>1900</td>\n",
              "      <td>85</td>\n",
              "      <td>25</td>\n",
              "      <td>2750</td>\n",
              "    </tr>\n",
              "    <tr>\n",
              "      <th>7</th>\n",
              "      <td>São Paulo</td>\n",
              "      <td>213</td>\n",
              "      <td>4</td>\n",
              "      <td>4</td>\n",
              "      <td>4</td>\n",
              "      <td>4</td>\n",
              "      <td>1</td>\n",
              "      <td>0</td>\n",
              "      <td>2254</td>\n",
              "      <td>3223</td>\n",
              "      <td>1735</td>\n",
              "      <td>41</td>\n",
              "      <td>7253</td>\n",
              "    </tr>\n",
              "    <tr>\n",
              "      <th>8</th>\n",
              "      <td>São Paulo</td>\n",
              "      <td>152</td>\n",
              "      <td>2</td>\n",
              "      <td>2</td>\n",
              "      <td>1</td>\n",
              "      <td>3</td>\n",
              "      <td>1</td>\n",
              "      <td>1</td>\n",
              "      <td>1000</td>\n",
              "      <td>15000</td>\n",
              "      <td>250</td>\n",
              "      <td>191</td>\n",
              "      <td>16440</td>\n",
              "    </tr>\n",
              "    <tr>\n",
              "      <th>9</th>\n",
              "      <td>Rio de Janeiro</td>\n",
              "      <td>35</td>\n",
              "      <td>1</td>\n",
              "      <td>1</td>\n",
              "      <td>0</td>\n",
              "      <td>2</td>\n",
              "      <td>1</td>\n",
              "      <td>1</td>\n",
              "      <td>590</td>\n",
              "      <td>2300</td>\n",
              "      <td>35</td>\n",
              "      <td>30</td>\n",
              "      <td>2955</td>\n",
              "    </tr>\n",
              "    <tr>\n",
              "      <th>10</th>\n",
              "      <td>São Paulo</td>\n",
              "      <td>26</td>\n",
              "      <td>1</td>\n",
              "      <td>1</td>\n",
              "      <td>0</td>\n",
              "      <td>2</td>\n",
              "      <td>1</td>\n",
              "      <td>1</td>\n",
              "      <td>470</td>\n",
              "      <td>2100</td>\n",
              "      <td>150</td>\n",
              "      <td>27</td>\n",
              "      <td>2747</td>\n",
              "    </tr>\n",
              "    <tr>\n",
              "      <th>11</th>\n",
              "      <td>Campinas</td>\n",
              "      <td>46</td>\n",
              "      <td>1</td>\n",
              "      <td>1</td>\n",
              "      <td>1</td>\n",
              "      <td>10</td>\n",
              "      <td>1</td>\n",
              "      <td>0</td>\n",
              "      <td>550</td>\n",
              "      <td>580</td>\n",
              "      <td>43</td>\n",
              "      <td>8</td>\n",
              "      <td>1181</td>\n",
              "    </tr>\n",
              "    <tr>\n",
              "      <th>12</th>\n",
              "      <td>São Paulo</td>\n",
              "      <td>36</td>\n",
              "      <td>1</td>\n",
              "      <td>1</td>\n",
              "      <td>0</td>\n",
              "      <td>11</td>\n",
              "      <td>1</td>\n",
              "      <td>0</td>\n",
              "      <td>359</td>\n",
              "      <td>2100</td>\n",
              "      <td>70</td>\n",
              "      <td>27</td>\n",
              "      <td>2556</td>\n",
              "    </tr>\n",
              "    <tr>\n",
              "      <th>13</th>\n",
              "      <td>São Paulo</td>\n",
              "      <td>55</td>\n",
              "      <td>1</td>\n",
              "      <td>1</td>\n",
              "      <td>1</td>\n",
              "      <td>2</td>\n",
              "      <td>1</td>\n",
              "      <td>1</td>\n",
              "      <td>790</td>\n",
              "      <td>4200</td>\n",
              "      <td>224</td>\n",
              "      <td>54</td>\n",
              "      <td>5268</td>\n",
              "    </tr>\n",
              "    <tr>\n",
              "      <th>14</th>\n",
              "      <td>São Paulo</td>\n",
              "      <td>100</td>\n",
              "      <td>2</td>\n",
              "      <td>2</td>\n",
              "      <td>2</td>\n",
              "      <td>24</td>\n",
              "      <td>1</td>\n",
              "      <td>1</td>\n",
              "      <td>900</td>\n",
              "      <td>4370</td>\n",
              "      <td>17</td>\n",
              "      <td>56</td>\n",
              "      <td>5343</td>\n",
              "    </tr>\n",
              "    <tr>\n",
              "      <th>16</th>\n",
              "      <td>São Paulo</td>\n",
              "      <td>110</td>\n",
              "      <td>2</td>\n",
              "      <td>2</td>\n",
              "      <td>1</td>\n",
              "      <td>1</td>\n",
              "      <td>1</td>\n",
              "      <td>0</td>\n",
              "      <td>700</td>\n",
              "      <td>3000</td>\n",
              "      <td>122</td>\n",
              "      <td>39</td>\n",
              "      <td>3861</td>\n",
              "    </tr>\n",
              "    <tr>\n",
              "      <th>17</th>\n",
              "      <td>Rio de Janeiro</td>\n",
              "      <td>88</td>\n",
              "      <td>2</td>\n",
              "      <td>3</td>\n",
              "      <td>1</td>\n",
              "      <td>9</td>\n",
              "      <td>0</td>\n",
              "      <td>1</td>\n",
              "      <td>1614</td>\n",
              "      <td>3500</td>\n",
              "      <td>221</td>\n",
              "      <td>16</td>\n",
              "      <td>5351</td>\n",
              "    </tr>\n",
              "    <tr>\n",
              "      <th>18</th>\n",
              "      <td>Rio de Janeiro</td>\n",
              "      <td>56</td>\n",
              "      <td>2</td>\n",
              "      <td>1</td>\n",
              "      <td>0</td>\n",
              "      <td>8</td>\n",
              "      <td>1</td>\n",
              "      <td>0</td>\n",
              "      <td>800</td>\n",
              "      <td>1220</td>\n",
              "      <td>0</td>\n",
              "      <td>16</td>\n",
              "      <td>2036</td>\n",
              "    </tr>\n",
              "    <tr>\n",
              "      <th>21</th>\n",
              "      <td>Belo Horizonte</td>\n",
              "      <td>42</td>\n",
              "      <td>1</td>\n",
              "      <td>1</td>\n",
              "      <td>1</td>\n",
              "      <td>17</td>\n",
              "      <td>0</td>\n",
              "      <td>1</td>\n",
              "      <td>470</td>\n",
              "      <td>2690</td>\n",
              "      <td>172</td>\n",
              "      <td>36</td>\n",
              "      <td>3368</td>\n",
              "    </tr>\n",
              "    <tr>\n",
              "      <th>22</th>\n",
              "      <td>São Paulo</td>\n",
              "      <td>160</td>\n",
              "      <td>3</td>\n",
              "      <td>2</td>\n",
              "      <td>2</td>\n",
              "      <td>18</td>\n",
              "      <td>1</td>\n",
              "      <td>1</td>\n",
              "      <td>1530</td>\n",
              "      <td>1900</td>\n",
              "      <td>167</td>\n",
              "      <td>25</td>\n",
              "      <td>3622</td>\n",
              "    </tr>\n",
              "    <tr>\n",
              "      <th>24</th>\n",
              "      <td>Rio de Janeiro</td>\n",
              "      <td>90</td>\n",
              "      <td>3</td>\n",
              "      <td>2</td>\n",
              "      <td>1</td>\n",
              "      <td>7</td>\n",
              "      <td>1</td>\n",
              "      <td>0</td>\n",
              "      <td>800</td>\n",
              "      <td>1800</td>\n",
              "      <td>118</td>\n",
              "      <td>24</td>\n",
              "      <td>2742</td>\n",
              "    </tr>\n",
              "  </tbody>\n",
              "</table>\n",
              "</div>"
            ],
            "text/plain": [
              "            Cidade  Area  Quartos  ...  IPTU  Seguro Incendio  Total\n",
              "0        São Paulo    70        2  ...   211               42   5618\n",
              "1        São Paulo   320        4  ...  1750               63   7973\n",
              "2     Porto Alegre    80        1  ...     0               41   3841\n",
              "3     Porto Alegre    51        2  ...    22               17   1421\n",
              "4        São Paulo    25        1  ...    25               11    836\n",
              "6   Rio de Janeiro    72        2  ...    85               25   2750\n",
              "7        São Paulo   213        4  ...  1735               41   7253\n",
              "8        São Paulo   152        2  ...   250              191  16440\n",
              "9   Rio de Janeiro    35        1  ...    35               30   2955\n",
              "10       São Paulo    26        1  ...   150               27   2747\n",
              "11        Campinas    46        1  ...    43                8   1181\n",
              "12       São Paulo    36        1  ...    70               27   2556\n",
              "13       São Paulo    55        1  ...   224               54   5268\n",
              "14       São Paulo   100        2  ...    17               56   5343\n",
              "16       São Paulo   110        2  ...   122               39   3861\n",
              "17  Rio de Janeiro    88        2  ...   221               16   5351\n",
              "18  Rio de Janeiro    56        2  ...     0               16   2036\n",
              "21  Belo Horizonte    42        1  ...   172               36   3368\n",
              "22       São Paulo   160        3  ...   167               25   3622\n",
              "24  Rio de Janeiro    90        3  ...   118               24   2742\n",
              "\n",
              "[20 rows x 13 columns]"
            ]
          },
          "metadata": {},
          "execution_count": 61
        }
      ]
    },
    {
      "cell_type": "code",
      "metadata": {
        "colab": {
          "base_uri": "https://localhost:8080/"
        },
        "id": "AGrHpzjTAoxN",
        "outputId": "ae541f13-0f29-40cd-909a-5960d875d849"
      },
      "source": [
        "alugueis_filtro['Andar'] = alugueis_filtro['Andar'].astype(object).astype(\"int64\") # Transformando object em int , após dropar as linhas com valor de '-' para andares"
      ],
      "id": "AGrHpzjTAoxN",
      "execution_count": null,
      "outputs": [
        {
          "output_type": "stream",
          "text": [
            "/usr/local/lib/python3.7/dist-packages/ipykernel_launcher.py:1: SettingWithCopyWarning: \n",
            "A value is trying to be set on a copy of a slice from a DataFrame.\n",
            "Try using .loc[row_indexer,col_indexer] = value instead\n",
            "\n",
            "See the caveats in the documentation: https://pandas.pydata.org/pandas-docs/stable/user_guide/indexing.html#returning-a-view-versus-a-copy\n",
            "  \"\"\"Entry point for launching an IPython kernel.\n"
          ],
          "name": "stderr"
        }
      ]
    },
    {
      "cell_type": "code",
      "metadata": {
        "colab": {
          "base_uri": "https://localhost:8080/"
        },
        "id": "rFrKP1H6Avd0",
        "outputId": "bd55d79f-f549-4120-8e1d-e8865a2f5d2e"
      },
      "source": [
        "alugueis_filtro.dtypes"
      ],
      "id": "rFrKP1H6Avd0",
      "execution_count": null,
      "outputs": [
        {
          "output_type": "execute_result",
          "data": {
            "text/plain": [
              "Cidade             object\n",
              "Area                int64\n",
              "Quartos             int64\n",
              "Banheiros           int64\n",
              "Vagas               int64\n",
              "Andar               int64\n",
              "Animais             int64\n",
              "Mobilia             int64\n",
              "Condominio          int64\n",
              "Aluguel             int64\n",
              "IPTU                int64\n",
              "Seguro Incendio     int64\n",
              "Total               int64\n",
              "dtype: object"
            ]
          },
          "metadata": {},
          "execution_count": 65
        }
      ]
    },
    {
      "cell_type": "code",
      "metadata": {
        "colab": {
          "base_uri": "https://localhost:8080/"
        },
        "id": "J1QItDMC9thc",
        "outputId": "9af9534b-8648-48ae-8335-17045033763e"
      },
      "source": [
        "Aluguel = alugueis_filtro['Aluguel']\n",
        "Andar = alugueis_filtro['Andar']\n",
        "\n",
        "r = Aluguel.corr(Andar) #Calcula a correlação entre Area e Aluguel\n",
        "print('Correlação:', r)"
      ],
      "id": "J1QItDMC9thc",
      "execution_count": null,
      "outputs": [
        {
          "output_type": "stream",
          "text": [
            "Correlação: 0.20944697989022112\n"
          ],
          "name": "stdout"
        }
      ]
    },
    {
      "cell_type": "code",
      "metadata": {
        "colab": {
          "base_uri": "https://localhost:8080/",
          "height": 558
        },
        "id": "7epEpkLtANy1",
        "outputId": "3c096e22-933e-43dd-9ac4-8fa76e9ff126"
      },
      "source": [
        "alugueis_filtro.plot.scatter('Aluguel','Andar')\n",
        "alugueis_filtro.plot.line(x='Aluguel',y='Andar', style='-o')"
      ],
      "id": "7epEpkLtANy1",
      "execution_count": null,
      "outputs": [
        {
          "output_type": "execute_result",
          "data": {
            "text/plain": [
              "<matplotlib.axes._subplots.AxesSubplot at 0x7f00bb064790>"
            ]
          },
          "metadata": {},
          "execution_count": 77
        },
        {
          "output_type": "display_data",
          "data": {
            "image/png": "[encoded data removed]",
            "text/plain": [
              "<Figure size 432x288 with 1 Axes>"
            ]
          },
          "metadata": {
            "needs_background": "light"
          }
        },
        {
          "output_type": "display_data",
          "data": {
            "image/png": "[encoded data removed]",
            "text/plain": [
              "<Figure size 432x288 with 1 Axes>"
            ]
          },
          "metadata": {
            "needs_background": "light"
          }
        }
      ]
    },
    {
      "cell_type": "code",
      "metadata": {
        "id": "dTEPVCmEANwh"
      },
      "source": [
        ""
      ],
      "id": "dTEPVCmEANwh",
      "execution_count": null,
      "outputs": []
    },
    {
      "cell_type": "code",
      "metadata": {
        "id": "fyGZLP2EANt9"
      },
      "source": [
        ""
      ],
      "id": "fyGZLP2EANt9",
      "execution_count": null,
      "outputs": []
    },
    {
      "cell_type": "code",
      "metadata": {
        "id": "kuaMK_eHANru"
      },
      "source": [
        ""
      ],
      "id": "kuaMK_eHANru",
      "execution_count": null,
      "outputs": []
    },
    {
      "cell_type": "markdown",
      "metadata": {
        "id": "15475d3b"
      },
      "source": [
        "## Referências\n",
        "\n",
        "[LACHOS, H. Estatística para experimentalistas: Notas de aula. Unicamp, 2007.](http://www.ime.unicamp.br/~hlachos/ME414_2007.html)  \n",
        "[JUNIOR, R. *brazilian_houses_to_rent*. Kaggle, 2020](https://www.kaggle.com/rubenssjr/brasilian-houses-to-rent/metadata)  \n",
        "\n"
      ],
      "id": "15475d3b"
    }
  ]
}